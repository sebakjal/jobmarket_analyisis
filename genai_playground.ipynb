{
 "cells": [
  {
   "cell_type": "code",
   "execution_count": 1,
   "metadata": {},
   "outputs": [
    {
     "name": "stderr",
     "output_type": "stream",
     "text": [
      "C:\\Users\\k_jal\\AppData\\Roaming\\Python\\Python311\\site-packages\\tqdm\\auto.py:21: TqdmWarning: IProgress not found. Please update jupyter and ipywidgets. See https://ipywidgets.readthedocs.io/en/stable/user_install.html\n",
      "  from .autonotebook import tqdm as notebook_tqdm\n"
     ]
    }
   ],
   "source": [
    "from config import *\n",
    "from genai_functions import *\n"
   ]
  },
  {
   "cell_type": "code",
   "execution_count": 4,
   "metadata": {},
   "outputs": [],
   "source": [
    "job_desc = \"\"\"\n",
    "Que estamos buscando\n",
    "- Diseñar, desarrollar y mantener infraestructuras y pipelines de datos escalables y confiables.\n",
    "- Optimizar el almacenamiento, procesamiento y recuperación de datos para un funcionamiento eficiente e impecable.\n",
    "- Colaborar con equipos de diferentes departamentos para recopilar y analizar los requisitos de datos.\n",
    "- Garantizar la calidad, integridad y seguridad de los datos durante todo el ciclo de vida de estos.\n",
    "- Mantenerse actualizado sobre los últimos avances, desarrollos y enfoques en ingeniería de datos.\n",
    " ¿Qué habilidades y experiencia necesitas?\n",
    "- Fuertes habilidades analíticas y de resolución de problemas.\n",
    "- Al menos 3 años de experiencia en ingeniería de datos.\n",
    "- Experiencia comprobada en el diseño y desarrollo de data pipelines y procesos ETL, preferiblemente con Azure Data Factory.\n",
    "- Amplia experiencia en SQL y dominio de al menos un lenguaje de ingeniería de datos, como Python o Scala.\n",
    "- Experiencia con Spark, Airflow y tecnologías Big Data relacionadas.\n",
    "- Familiaridad con plataformas de datos basadas en la nube como AWS, Azure o GCP.\n",
    "- Excelentes habilidades de comunicación y colaboración.\n",
    " Deseable\n",
    "Se valorará la experiencia con herramientas de BI como Power BI y Microsoft Fabric. También es deseable contar con alguna de las siguientes certificaciones: DP-203, PL-300, DP-600 y/o DP-700.\n",
    " Únete a nosotros\n",
    "En *Lisit* ofrecemos un ambiente de trabajo innovador y colaborativo. Nos aseguramos de que nuestros empleados disfruten de un equilibrio entre trabajo y vida personal, con programas de capacitación y desarrollo continuo. Valoramos tu entusiasmo y pasión por la ingeniería de datos.\n",
    "Estamos emocionados por conocer a personas con una mentalidad abierta y dispuestas a enfrentar nuevos desafíos. ¡Si estás listo para innovar y crecer con nosotros, te queremos en nuestro equipo!\n",
    "En el caso de residir en Santiago, debe tener disponibilidad para viajar una o dos semanas a Los Angeles, región del BioBío\n",
    "  \n",
    "\"\"\""
   ]
  },
  {
   "cell_type": "code",
   "execution_count": 5,
   "metadata": {},
   "outputs": [
    {
     "name": "stdout",
     "output_type": "stream",
     "text": [
      "Classification:\n",
      " Task clarity: Medium\n",
      "Seniority level: Mid-Senior\n",
      "Requires degree in IT: No\n",
      "Mentions certifications: Yes\n",
      "Years of experience: 3+\n",
      "In English: No\n",
      "Cloud preference: No preference\n",
      "Skills wanted: ['develop pipelines or ETL/ELT processes', 'Spark knowledge', 'Automation (Airflow, Prefect, Dagster, etc.)', 'Collaboration with data scientists or analysts', 'Version control (GIT or similar)', 'Data quality']\n"
     ]
    },
    {
     "data": {
      "text/plain": [
       "\"Task clarity: Medium\\nSeniority level: Mid-Senior\\nRequires degree in IT: No\\nMentions certifications: Yes\\nYears of experience: 3+\\nIn English: No\\nCloud preference: No preference\\nSkills wanted: ['develop pipelines or ETL/ELT processes', 'Spark knowledge', 'Automation (Airflow, Prefect, Dagster, etc.)', 'Collaboration with data scientists or analysts', 'Version control (GIT or similar)', 'Data quality']\""
      ]
     },
     "execution_count": 5,
     "metadata": {},
     "output_type": "execute_result"
    }
   ],
   "source": [
    "classify_job_description(job_desc)"
   ]
  },
  {
   "cell_type": "code",
   "execution_count": null,
   "metadata": {},
   "outputs": [],
   "source": []
  }
 ],
 "metadata": {
  "kernelspec": {
   "display_name": "Python 3",
   "language": "python",
   "name": "python3"
  },
  "language_info": {
   "codemirror_mode": {
    "name": "ipython",
    "version": 3
   },
   "file_extension": ".py",
   "mimetype": "text/x-python",
   "name": "python",
   "nbconvert_exporter": "python",
   "pygments_lexer": "ipython3",
   "version": "3.11.3"
  }
 },
 "nbformat": 4,
 "nbformat_minor": 2
}
